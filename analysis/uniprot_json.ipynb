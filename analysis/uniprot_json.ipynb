{
 "cells": [
  {
   "cell_type": "code",
   "execution_count": 2,
   "metadata": {},
   "outputs": [],
   "source": [
    "import json\n",
    "import os\n",
    "import pandas as pd\n",
    "from collections import defaultdict\n",
    "# from collections import Counter"
   ]
  },
  {
   "cell_type": "code",
   "execution_count": 3,
   "metadata": {},
   "outputs": [],
   "source": [
    "os.chdir('/mnt/data/hong/courses/varianceAnalysis/')"
   ]
  },
  {
   "cell_type": "code",
   "execution_count": 4,
   "metadata": {},
   "outputs": [],
   "source": [
    "uniprot = open(\"data/ADA_uniprot.json\", \"r\")\n",
    "uniprot = json.load(uniprot)\n"
   ]
  },
  {
   "cell_type": "code",
   "execution_count": 5,
   "metadata": {},
   "outputs": [],
   "source": [
    "## json to dataframe\n",
    "\n",
    "uniprot_features = uniprot['features']"
   ]
  },
  {
   "cell_type": "code",
   "execution_count": 5,
   "metadata": {},
   "outputs": [],
   "source": [
    "id_dict = defaultdict(str)\n",
    "for var in uniprot_features:\n",
    "    for xref in var['xrefs']:\n",
    "        id_dict[xref['id']] = var['consequenceType']\n"
   ]
  },
  {
   "cell_type": "code",
   "execution_count": 47,
   "metadata": {},
   "outputs": [
    {
     "data": {
      "text/plain": [
       "Counter({'missense': 526,\n",
       "         'stop gained': 28,\n",
       "         '-': 5,\n",
       "         'frameshift': 33,\n",
       "         'inframe deletion': 1,\n",
       "         'stop lost': 2})"
      ]
     },
     "execution_count": 47,
     "metadata": {},
     "output_type": "execute_result"
    }
   ],
   "source": [
    "# Counter(id_dict.values())"
   ]
  },
  {
   "cell_type": "code",
   "execution_count": 6,
   "metadata": {},
   "outputs": [
    {
     "data": {
      "text/plain": [
       "missense            526\n",
       "frameshift           33\n",
       "stop gained          28\n",
       "-                     5\n",
       "stop lost             2\n",
       "inframe deletion      1\n",
       "Name: consequenceType, dtype: int64"
      ]
     },
     "execution_count": 6,
     "metadata": {},
     "output_type": "execute_result"
    }
   ],
   "source": [
    "## dataframe for better table view\n",
    "df = pd.DataFrame(list(id_dict.items()), columns=['id', 'consequenceType'])\n",
    "df['consequenceType'].value_counts()"
   ]
  },
  {
   "cell_type": "code",
   "execution_count": 11,
   "metadata": {},
   "outputs": [],
   "source": [
    "df_rs = df[df['id'].str.startswith('rs')]"
   ]
  },
  {
   "cell_type": "code",
   "execution_count": 12,
   "metadata": {},
   "outputs": [],
   "source": [
    "df_rs.to_csv('data/ADA_variant_rs.csv', index=False)"
   ]
  },
  {
   "cell_type": "code",
   "execution_count": 7,
   "metadata": {},
   "outputs": [],
   "source": [
    "df = defaultdict(list)\n",
    "for var in uniprot_features:\n",
    "    match 'xrefs' in var.keys():\n",
    "        case True:\n",
    "            df['id'].append(var['xrefs'][0]['id'])\n",
    "        case False:\n",
    "            df['id'].append(\"NA\")\n",
    "    match 'consequenceType' in var.keys():\n",
    "        case True:\n",
    "            df['consequenceType'].append(var['consequenceType'])\n",
    "        case False:\n",
    "            df['consequenceType'].append(\"NA\")\n",
    "    match 'populationFrequencies' in var.keys():\n",
    "          ## case 'populationFrequencies'\n",
    "        case True :\n",
    "            df['MAF'].append(var['populationFrequencies'][0]['frequency'])\n",
    "        case False:\n",
    "            df['MAF'].append(\"NA\")\n",
    "    match 'clinicalSignificances' in var.keys():\n",
    "        case True:\n",
    "            df['clinicalSignificances'].append(var['clinicalSignificances'][0]['type'])\n",
    "        case False:\n",
    "            df['clinicalSignificances'].append(\"NA\")\n"
   ]
  },
  {
   "cell_type": "code",
   "execution_count": 15,
   "metadata": {},
   "outputs": [],
   "source": [
    "## df to dataframe and write to tsv\n",
    "df_df = pd.DataFrame.from_dict(df, orient='columns')\n",
    "df_rs = df_df[df_df['id'].str.startswith('rs')]\n",
    "df_rs.to_csv('data/ADA_variant_clinic.tsv', sep='\\t', index=False)"
   ]
  },
  {
   "cell_type": "code",
   "execution_count": 14,
   "metadata": {},
   "outputs": [
    {
     "data": {
      "text/html": [
       "<div>\n",
       "<style scoped>\n",
       "    .dataframe tbody tr th:only-of-type {\n",
       "        vertical-align: middle;\n",
       "    }\n",
       "\n",
       "    .dataframe tbody tr th {\n",
       "        vertical-align: top;\n",
       "    }\n",
       "\n",
       "    .dataframe thead th {\n",
       "        text-align: right;\n",
       "    }\n",
       "</style>\n",
       "<table border=\"1\" class=\"dataframe\">\n",
       "  <thead>\n",
       "    <tr style=\"text-align: right;\">\n",
       "      <th></th>\n",
       "      <th>id</th>\n",
       "      <th>consequenceType</th>\n",
       "      <th>MAF</th>\n",
       "      <th>clinicalSignificances</th>\n",
       "    </tr>\n",
       "  </thead>\n",
       "  <tbody>\n",
       "    <tr>\n",
       "      <th>0</th>\n",
       "      <td>rs1319968268</td>\n",
       "      <td>missense</td>\n",
       "      <td>NA</td>\n",
       "      <td>NA</td>\n",
       "    </tr>\n",
       "    <tr>\n",
       "      <th>2</th>\n",
       "      <td>rs1464312281</td>\n",
       "      <td>missense</td>\n",
       "      <td>NA</td>\n",
       "      <td>NA</td>\n",
       "    </tr>\n",
       "    <tr>\n",
       "      <th>3</th>\n",
       "      <td>rs956908942</td>\n",
       "      <td>missense</td>\n",
       "      <td>NA</td>\n",
       "      <td>NA</td>\n",
       "    </tr>\n",
       "    <tr>\n",
       "      <th>4</th>\n",
       "      <td>rs956908942</td>\n",
       "      <td>missense</td>\n",
       "      <td>NA</td>\n",
       "      <td>NA</td>\n",
       "    </tr>\n",
       "    <tr>\n",
       "      <th>5</th>\n",
       "      <td>rs73598374</td>\n",
       "      <td>missense</td>\n",
       "      <td>0.05132</td>\n",
       "      <td>Pathogenic</td>\n",
       "    </tr>\n",
       "    <tr>\n",
       "      <th>...</th>\n",
       "      <td>...</td>\n",
       "      <td>...</td>\n",
       "      <td>...</td>\n",
       "      <td>...</td>\n",
       "    </tr>\n",
       "    <tr>\n",
       "      <th>378</th>\n",
       "      <td>rs1313508972</td>\n",
       "      <td>missense</td>\n",
       "      <td>NA</td>\n",
       "      <td>NA</td>\n",
       "    </tr>\n",
       "    <tr>\n",
       "      <th>379</th>\n",
       "      <td>rs749295575</td>\n",
       "      <td>missense</td>\n",
       "      <td>NA</td>\n",
       "      <td>NA</td>\n",
       "    </tr>\n",
       "    <tr>\n",
       "      <th>380</th>\n",
       "      <td>rs1170608999</td>\n",
       "      <td>missense</td>\n",
       "      <td>NA</td>\n",
       "      <td>NA</td>\n",
       "    </tr>\n",
       "    <tr>\n",
       "      <th>381</th>\n",
       "      <td>rs1568841793</td>\n",
       "      <td>missense</td>\n",
       "      <td>NA</td>\n",
       "      <td>NA</td>\n",
       "    </tr>\n",
       "    <tr>\n",
       "      <th>383</th>\n",
       "      <td>rs1317855210</td>\n",
       "      <td>missense</td>\n",
       "      <td>NA</td>\n",
       "      <td>NA</td>\n",
       "    </tr>\n",
       "  </tbody>\n",
       "</table>\n",
       "<p>231 rows × 4 columns</p>\n",
       "</div>"
      ],
      "text/plain": [
       "               id consequenceType      MAF clinicalSignificances\n",
       "0    rs1319968268        missense       NA                    NA\n",
       "2    rs1464312281        missense       NA                    NA\n",
       "3     rs956908942        missense       NA                    NA\n",
       "4     rs956908942        missense       NA                    NA\n",
       "5      rs73598374        missense  0.05132            Pathogenic\n",
       "..            ...             ...      ...                   ...\n",
       "378  rs1313508972        missense       NA                    NA\n",
       "379   rs749295575        missense       NA                    NA\n",
       "380  rs1170608999        missense       NA                    NA\n",
       "381  rs1568841793        missense       NA                    NA\n",
       "383  rs1317855210        missense       NA                    NA\n",
       "\n",
       "[231 rows x 4 columns]"
      ]
     },
     "execution_count": 14,
     "metadata": {},
     "output_type": "execute_result"
    }
   ],
   "source": [
    "df_rs"
   ]
  },
  {
   "cell_type": "code",
   "execution_count": null,
   "metadata": {},
   "outputs": [],
   "source": []
  },
  {
   "cell_type": "code",
   "execution_count": null,
   "metadata": {},
   "outputs": [],
   "source": []
  }
 ],
 "metadata": {
  "kernelspec": {
   "display_name": "genes",
   "language": "python",
   "name": "python3"
  },
  "language_info": {
   "codemirror_mode": {
    "name": "ipython",
    "version": 3
   },
   "file_extension": ".py",
   "mimetype": "text/x-python",
   "name": "python",
   "nbconvert_exporter": "python",
   "pygments_lexer": "ipython3",
   "version": "3.10.6"
  }
 },
 "nbformat": 4,
 "nbformat_minor": 2
}
