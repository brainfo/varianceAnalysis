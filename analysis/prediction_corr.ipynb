{
 "cells": [
  {
   "cell_type": "code",
   "execution_count": 4,
   "metadata": {},
   "outputs": [],
   "source": [
    "import pandas as pd\n",
    "import os \n",
    "os.chdir('/mnt/data/hong/courses/varianceAnalysis/')"
   ]
  },
  {
   "cell_type": "code",
   "execution_count": 38,
   "metadata": {},
   "outputs": [],
   "source": [
    "obs = pd.read_csv('data/ADA_variant_clinic.tsv', sep='\\t')"
   ]
  },
  {
   "cell_type": "code",
   "execution_count": 6,
   "metadata": {},
   "outputs": [],
   "source": [
    "fathmm = pd.read_csv('data/fathmm_from_ADA_variants_rs.tab', sep='\\t')"
   ]
  },
  {
   "cell_type": "code",
   "execution_count": 9,
   "metadata": {},
   "outputs": [],
   "source": [
    "amis = pd.read_csv('data/ADA_variant_rsid_vep_aMissense.txt', sep='\\t', skiprows=[*range(44)])"
   ]
  },
  {
   "cell_type": "code",
   "execution_count": 39,
   "metadata": {},
   "outputs": [],
   "source": [
    "## merge the dataframes\n",
    "obs_fathmm = pd.merge(obs, fathmm, left_on= 'id', right_on='dbSNP ID', how='left')\n",
    "obs_fathmm_amis = pd.merge(obs_fathmm, amis, left_on= 'id', right_on='#Uploaded_variation', how='left')\n",
    "obs_fathmm_amis.fillna('NA', inplace=True)"
   ]
  },
  {
   "cell_type": "code",
   "execution_count": 41,
   "metadata": {},
   "outputs": [],
   "source": [
    "## FIsher exact test\n",
    "\n",
    "obs_clinicalSignificances = obs_fathmm_amis['clinicalSignificances']\n",
    "fathmm_clinicalSignificances = obs_fathmm_amis['Prediction']\n",
    "## split the column extra by semicomma\n",
    "## use regex to extract the string after IMPACT= and before ; in Extra column\n",
    "obs_fathmm_amis['IMPACT'] = obs_fathmm_amis['Extra'].str.extract(r'IMPACT=(.*?);')\n",
    "amis_clinicalSignificances = obs_fathmm_amis['IMPACT']\n",
    "## test the association between clinical significance and fathmm prediction\n",
    "\n"
   ]
  },
  {
   "cell_type": "code",
   "execution_count": 47,
   "metadata": {},
   "outputs": [
    {
     "data": {
      "text/plain": [
       "(2393.111833770712,\n",
       " 0.0,\n",
       " 3,\n",
       " array([[ 343.97731959,  595.02268041],\n",
       "        [  56.78006873,   98.21993127],\n",
       "        [ 666.34158076, 1152.65841924],\n",
       "        [1064.90103093, 1842.09896907]]))"
      ]
     },
     "execution_count": 47,
     "metadata": {},
     "output_type": "execute_result"
    }
   ],
   "source": [
    "from scipy.stats import contingency\n",
    "fathmm_crosstab = pd.crosstab(obs_fathmm_amis['clinicalSignificances'], obs_fathmm_amis['Prediction'])\n",
    "fathmm_crosstab_rec = fathmm_crosstab.drop('NA', axis=0)\n",
    "contingency.chi2_contingency(fathmm_crosstab_rec)"
   ]
  },
  {
   "cell_type": "code",
   "execution_count": 50,
   "metadata": {},
   "outputs": [
    {
     "data": {
      "text/plain": [
       "(412.55607384818313,\n",
       " 2.8636735807461966e-83,\n",
       " 9,\n",
       " array([[5.64690722e+00, 4.19484536e+01, 3.90120619e+02, 5.01284021e+02],\n",
       "        [9.32130584e-01, 6.92439863e+00, 6.43969072e+01, 8.27465636e+01],\n",
       "        [1.09390034e+01, 8.12611684e+01, 7.55728866e+02, 9.71070962e+02],\n",
       "        [1.74819588e+01, 1.29865979e+02, 1.20775361e+03, 1.55189845e+03]]))"
      ]
     },
     "execution_count": 50,
     "metadata": {},
     "output_type": "execute_result"
    }
   ],
   "source": [
    "amis_crosstab = pd.crosstab(obs_fathmm_amis['clinicalSignificances'], obs_fathmm_amis['IMPACT'])\n",
    "amis_crosstab_rec = amis_crosstab.drop('NA', axis=0)\n",
    "contingency.chi2_contingency(amis_crosstab_rec)"
   ]
  },
  {
   "cell_type": "code",
   "execution_count": 66,
   "metadata": {},
   "outputs": [
    {
     "name": "stderr",
     "output_type": "stream",
     "text": [
      "/tmp/ipykernel_3864203/3580885277.py:5: SettingWithCopyWarning: \n",
      "A value is trying to be set on a copy of a slice from a DataFrame.\n",
      "Try using .loc[row_indexer,col_indexer] = value instead\n",
      "\n",
      "See the caveats in the documentation: https://pandas.pydata.org/pandas-docs/stable/user_guide/indexing.html#returning-a-view-versus-a-copy\n",
      "  obs_fathmm_amis_rec['HMM Prob. M._rec'] = obs_fathmm_amis_rec['HMM Prob. M.'].replace('NA', '0')\n",
      "/tmp/ipykernel_3864203/3580885277.py:8: SettingWithCopyWarning: \n",
      "A value is trying to be set on a copy of a slice from a DataFrame.\n",
      "Try using .loc[row_indexer,col_indexer] = value instead\n",
      "\n",
      "See the caveats in the documentation: https://pandas.pydata.org/pandas-docs/stable/user_guide/indexing.html#returning-a-view-versus-a-copy\n",
      "  obs_fathmm_amis_rec['MAF'] = obs_fathmm_amis_rec['MAF'].astype(float)\n",
      "/tmp/ipykernel_3864203/3580885277.py:9: SettingWithCopyWarning: \n",
      "A value is trying to be set on a copy of a slice from a DataFrame.\n",
      "Try using .loc[row_indexer,col_indexer] = value instead\n",
      "\n",
      "See the caveats in the documentation: https://pandas.pydata.org/pandas-docs/stable/user_guide/indexing.html#returning-a-view-versus-a-copy\n",
      "  obs_fathmm_amis_rec['HMM Prob. M._rec'] = obs_fathmm_amis_rec['HMM Prob. M._rec'].astype(float)\n"
     ]
    },
    {
     "data": {
      "text/plain": [
       "LinregressResult(slope=1.0285717243939256, intercept=0.011748160030491048, rvalue=0.6230381134654781, pvalue=2.7072513044468046e-202, stderr=0.02982170094801998, intercept_stderr=0.0006007061203695877)"
      ]
     },
     "execution_count": 66,
     "metadata": {},
     "output_type": "execute_result"
    }
   ],
   "source": [
    "## correlation with the MAF and HMM weights D.\n",
    "## remove the rows where MAF is NA\n",
    "obs_fathmm_amis_rec = obs_fathmm_amis[obs_fathmm_amis['MAF'] != 'NA']\n",
    "\n",
    "obs_fathmm_amis_rec['HMM Prob. M._rec'] = obs_fathmm_amis_rec['HMM Prob. M.'].replace('NA', '0')\n",
    "## 0 meaning no change, as a guess when you don't have the data\n",
    "## pearson correlation\n",
    "obs_fathmm_amis_rec['MAF'] = obs_fathmm_amis_rec['MAF'].astype(float)\n",
    "obs_fathmm_amis_rec['HMM Prob. M._rec'] = obs_fathmm_amis_rec['HMM Prob. M._rec'].astype(float)\n",
    "obs_fathmm_amis_rec['MAF'].corr(obs_fathmm_amis_rec['HMM Prob. M._rec'])\n",
    "## linear regression\n",
    "from scipy.stats import linregress\n",
    "linregress(obs_fathmm_amis_rec['MAF'], obs_fathmm_amis_rec['HMM Prob. M._rec'])\n",
    "\n",
    "\n",
    "\n"
   ]
  },
  {
   "cell_type": "code",
   "execution_count": 63,
   "metadata": {},
   "outputs": [
    {
     "data": {
      "text/plain": [
       "288      NaN\n",
       "289      NaN\n",
       "290      NaN\n",
       "291      NaN\n",
       "292      NaN\n",
       "        ... \n",
       "17830    0.0\n",
       "17831    0.0\n",
       "17832    0.0\n",
       "17833    0.0\n",
       "17834    0.0\n",
       "Name: HMM Prob. M._rec, Length: 1877, dtype: float64"
      ]
     },
     "execution_count": 63,
     "metadata": {},
     "output_type": "execute_result"
    }
   ],
   "source": [
    "obs_fathmm_amis_rec['HMM Prob. M._rec']"
   ]
  },
  {
   "cell_type": "code",
   "execution_count": null,
   "metadata": {},
   "outputs": [],
   "source": []
  }
 ],
 "metadata": {
  "kernelspec": {
   "display_name": "genes",
   "language": "python",
   "name": "python3"
  },
  "language_info": {
   "codemirror_mode": {
    "name": "ipython",
    "version": 3
   },
   "file_extension": ".py",
   "mimetype": "text/x-python",
   "name": "python",
   "nbconvert_exporter": "python",
   "pygments_lexer": "ipython3",
   "version": "3.10.6"
  }
 },
 "nbformat": 4,
 "nbformat_minor": 2
}
